{
 "cells": [
  {
   "cell_type": "markdown",
   "metadata": {},
   "source": [
    "# Cat vs Dog Classification"
   ]
  },
  {
   "cell_type": "code",
   "execution_count": 1,
   "metadata": {},
   "outputs": [
    {
     "name": "stdout",
     "output_type": "stream",
     "text": [
      "Collecting pillow\n",
      "  Using cached Pillow-4.3.0-cp27-cp27mu-manylinux1_x86_64.whl\n",
      "Collecting olefile (from pillow)\n",
      "Installing collected packages: olefile, pillow\n",
      "Successfully installed olefile-0.44 pillow-3.1.2\n",
      "\u001b[33mYou are using pip version 8.1.1, however version 9.0.1 is available.\n",
      "You should consider upgrading via the 'pip install --upgrade pip' command.\u001b[0m\n",
      "Using TensorFlow backend.\n"
     ]
    }
   ],
   "source": [
    "!pip install pillow\n",
    "!KERAS_BACKEND=tensorflow python -c \"from keras import backend\"\n"
   ]
  },
  {
   "cell_type": "code",
   "execution_count": 2,
   "metadata": {
    "scrolled": true
   },
   "outputs": [
    {
     "name": "stderr",
     "output_type": "stream",
     "text": [
      "Using TensorFlow backend.\n"
     ]
    }
   ],
   "source": [
    "import os\n",
    "import numpy as np\n",
    "from keras.models import Sequential\n",
    "from keras.layers import Activation, Dropout, Flatten, Dense\n",
    "from keras.preprocessing.image import ImageDataGenerator\n",
    "from keras.layers import Convolution2D, MaxPooling2D, ZeroPadding2D\n",
    "from keras import optimizers\n",
    "import h5py\n"
   ]
  },
  {
   "cell_type": "code",
   "execution_count": 3,
   "metadata": {},
   "outputs": [],
   "source": [
    "# dimensions of our images.\n",
    "img_width, img_height = 150, 150\n",
    "\n",
    "train_data_dir = 'data/train'\n",
    "validation_data_dir = 'data/test'\n"
   ]
  },
  {
   "cell_type": "code",
   "execution_count": 4,
   "metadata": {},
   "outputs": [
    {
     "name": "stdout",
     "output_type": "stream",
     "text": [
      "Found 25000 images belonging to 2 classes.\n",
      "Found 1029 images belonging to 2 classes.\n"
     ]
    }
   ],
   "source": [
    "\n",
    "\n",
    "# used to rescale the pixel values from [0, 255] to [0, 1] interval\n",
    "datagen = ImageDataGenerator(rescale=1./255)\n",
    "\n",
    "# automagically retrieve images and their classes for train and validation sets\n",
    "train_generator = datagen.flow_from_directory(\n",
    "        train_data_dir,\n",
    "        target_size=(img_width, img_height),\n",
    "        batch_size=16,\n",
    "        class_mode='binary')\n",
    "\n",
    "validation_generator = datagen.flow_from_directory(\n",
    "        validation_data_dir,\n",
    "        target_size=(img_width, img_height),\n",
    "        batch_size=32,\n",
    "        class_mode='binary')\n",
    "\n",
    "\n"
   ]
  },
  {
   "cell_type": "code",
   "execution_count": 5,
   "metadata": {},
   "outputs": [
    {
     "name": "stderr",
     "output_type": "stream",
     "text": [
      "/usr/local/lib/python2.7/dist-packages/ipykernel_launcher.py:2: UserWarning: Update your `Conv2D` call to the Keras 2 API: `Conv2D(32, (3, 3), input_shape=(150, 150,...)`\n",
      "  \n",
      "/usr/local/lib/python2.7/dist-packages/ipykernel_launcher.py:6: UserWarning: Update your `Conv2D` call to the Keras 2 API: `Conv2D(32, (3, 3))`\n",
      "  \n",
      "/usr/local/lib/python2.7/dist-packages/ipykernel_launcher.py:10: UserWarning: Update your `Conv2D` call to the Keras 2 API: `Conv2D(64, (3, 3))`\n",
      "  # Remove the CWD from sys.path while we load stuff.\n"
     ]
    }
   ],
   "source": [
    "model = Sequential()\n",
    "model.add(Convolution2D(32, 3, 3, input_shape=(img_width, img_height,3)))\n",
    "model.add(Activation('relu'))\n",
    "model.add(MaxPooling2D(pool_size=(2, 2)))\n",
    "\n",
    "model.add(Convolution2D(32, 3, 3))\n",
    "model.add(Activation('relu'))\n",
    "model.add(MaxPooling2D(pool_size=(2, 2)))\n",
    "\n",
    "model.add(Convolution2D(64, 3, 3))\n",
    "model.add(Activation('relu'))\n",
    "model.add(MaxPooling2D(pool_size=(2, 2)))\n",
    "\n",
    "model.add(Flatten())\n",
    "model.add(Dense(64))\n",
    "model.add(Activation('relu'))\n",
    "model.add(Dropout(0.5))\n",
    "model.add(Dense(1))\n",
    "model.add(Activation('sigmoid'))\n"
   ]
  },
  {
   "cell_type": "code",
   "execution_count": 6,
   "metadata": {},
   "outputs": [],
   "source": [
    "model.compile(loss='binary_crossentropy',\n",
    "              optimizer='rmsprop',\n",
    "              metrics=['accuracy'])\n"
   ]
  },
  {
   "cell_type": "markdown",
   "metadata": {},
   "source": [
    "# Training"
   ]
  },
  {
   "cell_type": "code",
   "execution_count": 7,
   "metadata": {},
   "outputs": [],
   "source": [
    "nb_epoch = 30\n",
    "nb_train_samples = 25000\n",
    "nb_validation_samples = 1029\n"
   ]
  },
  {
   "cell_type": "code",
   "execution_count": 8,
   "metadata": {},
   "outputs": [
    {
     "name": "stderr",
     "output_type": "stream",
     "text": [
      "/usr/local/lib/python2.7/dist-packages/ipykernel_launcher.py:6: UserWarning: The semantics of the Keras 2 argument `steps_per_epoch` is not the same as the Keras 1 argument `samples_per_epoch`. `steps_per_epoch` is the number of batches to draw from the generator at each epoch. Basically steps_per_epoch = samples_per_epoch/batch_size. Similarly `nb_val_samples`->`validation_steps` and `val_samples`->`steps` arguments have changed. Update your method calls accordingly.\n",
      "  \n",
      "/usr/local/lib/python2.7/dist-packages/ipykernel_launcher.py:6: UserWarning: Update your `fit_generator` call to the Keras 2 API: `fit_generator(<keras.pre..., validation_data=<keras.pre..., steps_per_epoch=1562, epochs=30, validation_steps=1029)`\n",
      "  \n"
     ]
    },
    {
     "name": "stdout",
     "output_type": "stream",
     "text": [
      "Epoch 1/30\n",
      "1562/1562 [==============================] - 369s - loss: 0.6020 - acc: 0.6805 - val_loss: 0.5202 - val_acc: 0.7435\n",
      "Epoch 2/30\n",
      "1562/1562 [==============================] - 130s - loss: 0.5156 - acc: 0.7583 - val_loss: 0.5912 - val_acc: 0.7198\n",
      "Epoch 3/30\n",
      "1562/1562 [==============================] - 136s - loss: 0.4827 - acc: 0.7800 - val_loss: 0.4869 - val_acc: 0.7727\n",
      "Epoch 4/30\n",
      "1562/1562 [==============================] - 140s - loss: 0.4570 - acc: 0.8007 - val_loss: 0.4373 - val_acc: 0.8048\n",
      "Epoch 5/30\n",
      "1562/1562 [==============================] - 141s - loss: 0.4408 - acc: 0.8118 - val_loss: 0.4551 - val_acc: 0.8093\n",
      "Epoch 6/30\n",
      "1562/1562 [==============================] - 148s - loss: 0.4304 - acc: 0.8185 - val_loss: 0.4322 - val_acc: 0.8108\n",
      "Epoch 7/30\n",
      "1562/1562 [==============================] - 146s - loss: 0.4171 - acc: 0.8262 - val_loss: 0.3983 - val_acc: 0.8232\n",
      "Epoch 8/30\n",
      "1562/1562 [==============================] - 147s - loss: 0.4108 - acc: 0.8271 - val_loss: 0.4826 - val_acc: 0.8027\n",
      "Epoch 9/30\n",
      "1562/1562 [==============================] - 145s - loss: 0.4099 - acc: 0.8315 - val_loss: 0.3790 - val_acc: 0.8288\n",
      "Epoch 10/30\n",
      "1562/1562 [==============================] - 152s - loss: 0.4062 - acc: 0.8355 - val_loss: 0.4808 - val_acc: 0.7413\n",
      "Epoch 11/30\n",
      "1562/1562 [==============================] - 149s - loss: 0.4095 - acc: 0.8335 - val_loss: 0.3795 - val_acc: 0.8377\n",
      "Epoch 12/30\n",
      "1562/1562 [==============================] - 145s - loss: 0.4186 - acc: 0.8294 - val_loss: 0.8038 - val_acc: 0.7492\n",
      "Epoch 13/30\n",
      "1562/1562 [==============================] - 149s - loss: 0.4149 - acc: 0.8255 - val_loss: 0.3829 - val_acc: 0.8368\n",
      "Epoch 14/30\n",
      "1562/1562 [==============================] - 150s - loss: 0.4240 - acc: 0.8263 - val_loss: 0.7144 - val_acc: 0.7281\n",
      "Epoch 15/30\n",
      "1562/1562 [==============================] - 148s - loss: 0.4286 - acc: 0.8261 - val_loss: 0.4113 - val_acc: 0.8280\n",
      "Epoch 16/30\n",
      "1562/1562 [==============================] - 149s - loss: 0.4275 - acc: 0.8275 - val_loss: 0.4632 - val_acc: 0.7928\n",
      "Epoch 17/30\n",
      "1562/1562 [==============================] - 146s - loss: 0.4261 - acc: 0.8307 - val_loss: 1.1932 - val_acc: 0.7315\n",
      "Epoch 18/30\n",
      "1562/1562 [==============================] - 146s - loss: 0.4327 - acc: 0.8265 - val_loss: 0.4268 - val_acc: 0.7989\n",
      "Epoch 19/30\n",
      "1562/1562 [==============================] - 146s - loss: 0.4482 - acc: 0.8201 - val_loss: 0.5104 - val_acc: 0.8106\n",
      "Epoch 20/30\n",
      "1562/1562 [==============================] - 152s - loss: 0.4525 - acc: 0.8185 - val_loss: 0.6219 - val_acc: 0.7758\n",
      "Epoch 21/30\n",
      "1562/1562 [==============================] - 154s - loss: 0.5156 - acc: 0.8115 - val_loss: 0.3871 - val_acc: 0.8403\n",
      "Epoch 22/30\n",
      "1562/1562 [==============================] - 151s - loss: 0.4820 - acc: 0.8089 - val_loss: 0.6117 - val_acc: 0.6952\n",
      "Epoch 23/30\n",
      "1562/1562 [==============================] - 153s - loss: 0.4896 - acc: 0.8006 - val_loss: 0.5585 - val_acc: 0.6918\n",
      "Epoch 24/30\n",
      "1562/1562 [==============================] - 149s - loss: 0.5260 - acc: 0.7837 - val_loss: 0.5074 - val_acc: 0.7793\n",
      "Epoch 25/30\n",
      "1562/1562 [==============================] - 153s - loss: 0.5462 - acc: 0.7883 - val_loss: 0.5089 - val_acc: 0.7762\n",
      "Epoch 26/30\n",
      "1562/1562 [==============================] - 150s - loss: 0.5240 - acc: 0.7864 - val_loss: 0.4886 - val_acc: 0.7872\n",
      "Epoch 27/30\n",
      "1562/1562 [==============================] - 156s - loss: 0.5439 - acc: 0.7818 - val_loss: 0.4500 - val_acc: 0.8114\n",
      "Epoch 28/30\n",
      "1562/1562 [==============================] - 151s - loss: 0.5639 - acc: 0.7867 - val_loss: 0.4129 - val_acc: 0.8233\n",
      "Epoch 29/30\n",
      "1562/1562 [==============================] - 151s - loss: 0.6111 - acc: 0.7612 - val_loss: 0.4525 - val_acc: 0.8017\n",
      "Epoch 30/30\n",
      "1562/1562 [==============================] - 149s - loss: 0.7707 - acc: 0.7506 - val_loss: 0.6498 - val_acc: 0.7075\n"
     ]
    },
    {
     "data": {
      "text/plain": [
       "<keras.callbacks.History at 0x7f9a060542d0>"
      ]
     },
     "execution_count": 8,
     "metadata": {},
     "output_type": "execute_result"
    }
   ],
   "source": [
    "model.fit_generator(\n",
    "        train_generator,\n",
    "        samples_per_epoch=nb_train_samples,\n",
    "        nb_epoch=nb_epoch,\n",
    "        validation_data=validation_generator,\n",
    "        nb_val_samples=nb_validation_samples)\n"
   ]
  },
  {
   "cell_type": "code",
   "execution_count": 9,
   "metadata": {},
   "outputs": [],
   "source": [
    "model.save_weights('models/basic_cnn_30_epochs.h5')\n"
   ]
  },
  {
   "cell_type": "code",
   "execution_count": 10,
   "metadata": {},
   "outputs": [
    {
     "data": {
      "text/plain": [
       "[0.65049546128771274, 0.70739459667298754]"
      ]
     },
     "execution_count": 10,
     "metadata": {},
     "output_type": "execute_result"
    }
   ],
   "source": [
    "model.evaluate_generator(validation_generator, nb_validation_samples)\n"
   ]
  },
  {
   "cell_type": "code",
   "execution_count": null,
   "metadata": {},
   "outputs": [],
   "source": []
  }
 ],
 "metadata": {
  "kernelspec": {
   "display_name": "Python 2",
   "language": "python",
   "name": "python2"
  },
  "language_info": {
   "codemirror_mode": {
    "name": "ipython",
    "version": 2
   },
   "file_extension": ".py",
   "mimetype": "text/x-python",
   "name": "python",
   "nbconvert_exporter": "python",
   "pygments_lexer": "ipython2",
   "version": "2.7.12"
  }
 },
 "nbformat": 4,
 "nbformat_minor": 2
}
